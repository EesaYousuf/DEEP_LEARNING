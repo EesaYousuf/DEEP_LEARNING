{
 "cells": [
  {
   "cell_type": "markdown",
   "id": "28b850e0",
   "metadata": {},
   "source": [
    "Parameter Sharing in a CNN:\n",
    "\n",
    "* num_layers or reused instances create parameter sharing.\n",
    "\n",
    "*This can save memory and encourage parameter efficiency (common in some transformer variants like ALBERT).\n",
    "\n",
    "*Typing with torch.Tensor, int, and List makes the code easier to follow and tool-compatible\n"
   ]
  },
  {
   "cell_type": "code",
   "execution_count": null,
   "id": "1ceb7581",
   "metadata": {},
   "outputs": [],
   "source": [
    "import torch\n",
    "import torch.nn as nn\n",
    "from typing import Tuple\n",
    "\n",
    "class SharedConvBlock(nn.Module):\n",
    "    def __init__(self, shared_conv: nn.Conv2d) -> None:\n",
    "        super().__init__()\n",
    "        self.shared_conv = shared_conv\n",
    "        self.relu = nn.ReLU()\n",
    "\n",
    "    def forward(self, x: torch.Tensor) -> torch.Tensor:\n",
    "        return self.relu(self.shared_conv(x))\n",
    "\n",
    "\n",
    "class CNNWithSharedConv(nn.Module):\n",
    "    def __init__(self) -> None:\n",
    "        super().__init__()\n",
    "        shared_conv = nn.Conv2d(in_channels=3, out_channels=16, kernel_size=3, padding=1)\n",
    "\n",
    "        self.block1 = SharedConvBlock(shared_conv)\n",
    "        self.block2 = SharedConvBlock(shared_conv)\n",
    "\n",
    "        self.pool = nn.AdaptiveAvgPool2d((1, 1))\n",
    "        self.classifier = nn.Linear(16, 10)\n",
    "\n",
    "    def forward(self, x: torch.Tensor) -> torch.Tensor:\n",
    "        x = self.block1(x)\n",
    "        x = self.block2(x)\n",
    "        x = self.pool(x).squeeze(-1).squeeze(-1)  # Flatten\n",
    "        return self.classifier(x)\n",
    "\n",
    "\n",
    "# Test run\n",
    "def test_cnn() -> None:\n",
    "    model = CNNWithSharedConv()\n",
    "    x = torch.randn(8, 3, 32, 32)\n",
    "    output = model(x)\n",
    "    print(\"CNN output shape:\", output.shape)\n",
    "\n",
    "test_cnn()\n"
   ]
  }
 ],
 "metadata": {
  "kernelspec": {
   "display_name": "base",
   "language": "python",
   "name": "python3"
  },
  "language_info": {
   "codemirror_mode": {
    "name": "ipython",
    "version": 3
   },
   "file_extension": ".py",
   "mimetype": "text/x-python",
   "name": "python",
   "nbconvert_exporter": "python",
   "pygments_lexer": "ipython3",
   "version": "3.12.7"
  }
 },
 "nbformat": 4,
 "nbformat_minor": 5
}
