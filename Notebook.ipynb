{
 "cells": [
  {
   "cell_type": "code",
   "execution_count": null,
   "id": "30f6e7c2",
   "metadata": {
    "vscode": {
     "languageId": "plaintext"
    }
   },
   "outputs": [],
   "source": [
    "# data.py\n",
    "class SegDataset(Dataset):\n",
    "    def __init__(...):\n",
    "         # load image & mask path lists, transforms\n",
    "    def __getitem__(...):\n",
    "         # read via rasterio, apply transforms\n",
    "         return img_tensor, mask_tensor\n"
   ]
  }
 ],
 "metadata": {
  "language_info": {
   "name": "python"
  }
 },
 "nbformat": 4,
 "nbformat_minor": 5
}
