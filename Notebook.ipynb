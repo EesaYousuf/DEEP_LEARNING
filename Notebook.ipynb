{
 "cells": [
  {
   "cell_type": "code",
   "execution_count": null,
   "id": "30f6e7c2",
   "metadata": {
    "vscode": {
     "languageId": "plaintext"
    }
   },
   "outputs": [],
   "source": [
    "# data.py\n",
    "class SegDataset(Dataset):\n",
    "    def __init__(...):\n",
    "         # load image & mask path lists, transforms\n",
    "    def __getitem__(...):\n",
    "         # read via rasterio, apply transforms\n",
    "         return img_tensor, mask_tensor\n"
   ]
  },
  {
   "cell_type": "code",
   "execution_count": null,
   "id": "8797bfee",
   "metadata": {
    "vscode": {
     "languageId": "plaintext"
    }
   },
   "outputs": [],
   "source": [
    "# train.py\n",
    "def train():\n",
    "    model = UNet(in_channels=3, out_channels=5).to(device)\n",
    "    optimizer = torch.optim.Adam(model.parameters(), lr=1e-4)\n",
    "    for epoch in epochs:\n",
    "        for img, mask in loader:\n",
    "            out = model(img)\n",
    "            loss = dice_ce_loss(out, mask)\n",
    "            ...\n"
   ]
  }
 ],
 "metadata": {
  "language_info": {
   "name": "python"
  }
 },
 "nbformat": 4,
 "nbformat_minor": 5
}
