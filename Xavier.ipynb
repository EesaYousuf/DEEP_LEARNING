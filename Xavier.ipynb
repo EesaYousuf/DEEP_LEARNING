{
 "cells": [
  {
   "cell_type": "code",
   "execution_count": 7,
   "id": "fdf6b421",
   "metadata": {},
   "outputs": [
    {
     "data": {
      "text/plain": [
       "Parameter containing:\n",
       "tensor([[ 0.0009,  0.0740, -0.1282,  ..., -0.0338, -0.0030, -0.0785],\n",
       "        [-0.1650, -0.0432, -0.1617,  ..., -0.0804, -0.0340,  0.0592],\n",
       "        [-0.0564, -0.1126,  0.1734,  ..., -0.0129, -0.1193, -0.1055],\n",
       "        ...,\n",
       "        [ 0.0038, -0.0152,  0.0506,  ..., -0.1153, -0.0806, -0.1025],\n",
       "        [-0.1599,  0.1273, -0.1720,  ..., -0.0944, -0.0233, -0.0601],\n",
       "        [-0.1596,  0.0857,  0.0020,  ...,  0.1103,  0.1174, -0.0279]],\n",
       "       requires_grad=True)"
      ]
     },
     "execution_count": 7,
     "metadata": {},
     "output_type": "execute_result"
    }
   ],
   "source": [
    "import torch.nn as nn\n",
    "import torch.nn.init as init\n",
    "\n",
    "Layer = nn.Linear(128, 64)  # ✅ Corrected 'Liner' to 'Linear'\n",
    "init.xavier_uniform_(Layer.weight)  # ✅ Corrected 'unifrom_' to 'uniform_'\n"
   ]
  }
 ],
 "metadata": {
  "kernelspec": {
   "display_name": "base",
   "language": "python",
   "name": "python3"
  },
  "language_info": {
   "codemirror_mode": {
    "name": "ipython",
    "version": 3
   },
   "file_extension": ".py",
   "mimetype": "text/x-python",
   "name": "python",
   "nbconvert_exporter": "python",
   "pygments_lexer": "ipython3",
   "version": "3.12.7"
  }
 },
 "nbformat": 4,
 "nbformat_minor": 5
}
