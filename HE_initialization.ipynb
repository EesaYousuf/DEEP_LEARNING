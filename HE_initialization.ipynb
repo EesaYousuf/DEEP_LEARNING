{
 "cells": [
  {
   "cell_type": "markdown",
   "id": "de58597a",
   "metadata": {},
   "source": [
    "1.Xavier Initialization (Glorot Initialization)\n",
    "Good for tanh/sigmoid activations."
   ]
  },
  {
   "cell_type": "code",
   "execution_count": 2,
   "id": "9f74d93a",
   "metadata": {},
   "outputs": [
    {
     "data": {
      "text/plain": [
       "Parameter containing:\n",
       "tensor([[-0.0755, -0.0385,  0.0434,  ...,  0.0142, -0.0712, -0.0349],\n",
       "        [ 0.0915, -0.1302,  0.1380,  ...,  0.0677,  0.0548, -0.0623],\n",
       "        [-0.0066, -0.2320, -0.0840,  ...,  0.0669,  0.0897, -0.0522],\n",
       "        ...,\n",
       "        [ 0.0126, -0.1058, -0.0694,  ...,  0.0047,  0.0243,  0.0197],\n",
       "        [ 0.0546,  0.1408,  0.0137,  ..., -0.1051, -0.1119,  0.1344],\n",
       "        [ 0.0376, -0.0061,  0.2077,  ...,  0.1835, -0.1105,  0.1316]],\n",
       "       requires_grad=True)"
      ]
     },
     "execution_count": 2,
     "metadata": {},
     "output_type": "execute_result"
    }
   ],
   "source": [
    "import torch.nn as nn\n",
    "import torch.nn.init as init\n",
    "\n",
    "layer = nn.Linear(128, 64)\n",
    "init.xavier_uniform_(layer.weight)  # Xavier uniform initialization\n",
    "# OR\n",
    "init.xavier_normal_(layer.weight)   # Xavier normal initialization\n"
   ]
  },
  {
   "cell_type": "markdown",
   "id": "2dc58e48",
   "metadata": {},
   "source": [
    "2.Kaiming Initialization (He Initialization)\n",
    "Best for ReLU or variants."
   ]
  },
  {
   "cell_type": "code",
   "execution_count": 3,
   "id": "5000aec6",
   "metadata": {},
   "outputs": [
    {
     "data": {
      "text/plain": [
       "Parameter containing:\n",
       "tensor([[ 0.1459, -0.0754, -0.1616,  ..., -0.0316,  0.0688, -0.3076],\n",
       "        [-0.0180,  0.0043, -0.1444,  ..., -0.1103, -0.0545, -0.0979],\n",
       "        [ 0.0445, -0.0357,  0.0143,  ...,  0.0735,  0.0677,  0.1482],\n",
       "        ...,\n",
       "        [-0.0153, -0.0061, -0.0661,  ...,  0.1265,  0.0752,  0.0819],\n",
       "        [-0.1057,  0.0172,  0.0212,  ...,  0.1956,  0.2271, -0.0449],\n",
       "        [ 0.0494,  0.1408,  0.0971,  ..., -0.0348,  0.1239,  0.1736]],\n",
       "       requires_grad=True)"
      ]
     },
     "execution_count": 3,
     "metadata": {},
     "output_type": "execute_result"
    }
   ],
   "source": [
    "init.kaiming_uniform_(layer.weight, nonlinearity='relu')  # Uniform version\n",
    "# or\n",
    "init.kaiming_normal_(layer.weight, nonlinearity='relu')   # Normal distribution\n"
   ]
  },
  {
   "cell_type": "markdown",
   "id": "d600589d",
   "metadata": {},
   "source": [
    "3.Orthogonal Initialization\n",
    "Helps preserve the norm of the gradient"
   ]
  },
  {
   "cell_type": "code",
   "execution_count": 4,
   "id": "b5274a20",
   "metadata": {},
   "outputs": [
    {
     "data": {
      "text/plain": [
       "Parameter containing:\n",
       "tensor([[-0.0744, -0.0734, -0.0643,  ...,  0.0008,  0.0341,  0.0635],\n",
       "        [ 0.0405,  0.0727,  0.0324,  ..., -0.0294,  0.1316,  0.0155],\n",
       "        [ 0.0679, -0.0225, -0.0199,  ..., -0.0729,  0.0108,  0.0054],\n",
       "        ...,\n",
       "        [ 0.1460,  0.1216, -0.0405,  ...,  0.0825, -0.0375,  0.0170],\n",
       "        [-0.0579, -0.1148,  0.0424,  ...,  0.0026,  0.0403, -0.0817],\n",
       "        [-0.1264,  0.0951,  0.0693,  ...,  0.0887, -0.1839, -0.0168]],\n",
       "       requires_grad=True)"
      ]
     },
     "execution_count": 4,
     "metadata": {},
     "output_type": "execute_result"
    }
   ],
   "source": [
    "init.orthogonal_(layer.weight)\n"
   ]
  },
  {
   "cell_type": "markdown",
   "id": "a68d0913",
   "metadata": {},
   "source": [
    "4. Manual Initialization\n",
    "Custom initialization using any method you want."
   ]
  },
  {
   "cell_type": "code",
   "execution_count": 10,
   "id": "997fcd56",
   "metadata": {},
   "outputs": [],
   "source": [
    "import torch.nn as nn\n",
    "import torch\n",
    "\n",
    "layer = nn.Linear(128, 64)\n",
    "\n",
    "with torch.no_grad():\n",
    "    layer.weight.fill_(0.01)  # All weights set to 0.01\n",
    "    layer.bias.fill_(0)       # All biases set to 0\n"
   ]
  },
  {
   "cell_type": "markdown",
   "id": "34c27bca",
   "metadata": {},
   "source": [
    "Apply Initialization to a Whole Model"
   ]
  },
  {
   "cell_type": "code",
   "execution_count": 11,
   "id": "f9b7a10e",
   "metadata": {},
   "outputs": [
    {
     "data": {
      "text/plain": [
       "Sequential(\n",
       "  (0): Linear(in_features=128, out_features=64, bias=True)\n",
       "  (1): ReLU()\n",
       "  (2): Linear(in_features=64, out_features=10, bias=True)\n",
       ")"
      ]
     },
     "execution_count": 11,
     "metadata": {},
     "output_type": "execute_result"
    }
   ],
   "source": [
    "def init_weights(m):\n",
    "    if isinstance(m, nn.Linear):\n",
    "        init.xavier_uniform_(m.weight)\n",
    "        if m.bias is not None:\n",
    "            init.zeros_(m.bias)\n",
    "\n",
    "model = nn.Sequential(\n",
    "    nn.Linear(128, 64),\n",
    "    nn.ReLU(),\n",
    "    nn.Linear(64, 10)\n",
    ")\n",
    "\n",
    "model.apply(init_weights)\n"
   ]
  }
 ],
 "metadata": {
  "kernelspec": {
   "display_name": "base",
   "language": "python",
   "name": "python3"
  },
  "language_info": {
   "codemirror_mode": {
    "name": "ipython",
    "version": 3
   },
   "file_extension": ".py",
   "mimetype": "text/x-python",
   "name": "python",
   "nbconvert_exporter": "python",
   "pygments_lexer": "ipython3",
   "version": "3.12.7"
  }
 },
 "nbformat": 4,
 "nbformat_minor": 5
}
