{
 "cells": [
  {
   "cell_type": "markdown",
   "id": "f50ab2b1",
   "metadata": {},
   "source": [
    "Early Stopping on MNIST Dataset\n",
    "1.mnist.load_data() loads 60,000 training and 10,000 test samples.\n",
    "\n",
    "2.We use 10,000 samples for validation from the training set.\n",
    "\n",
    "3.Early stopping prevents overfitting by stopping when the validation loss doesn’t improve after 3 epochs."
   ]
  },
  {
   "cell_type": "code",
   "execution_count": null,
   "id": "af49df89",
   "metadata": {},
   "outputs": [],
   "source": [
    "import tensorflow as tf\n",
    "from tensorflow.keras.models import Sequential # type: ignore\n",
    "from tensorflow.keras.layers import Dense, Flatten # type: ignore\n",
    "from tensorflow.keras.datasets import mnist # type: ignore\n",
    "from tensorflow.keras.callbacks import EarlyStopping # type: ignore\n",
    "from tensorflow.keras.utils import to_categorical # type: ignore\n"
   ]
  },
  {
   "cell_type": "code",
   "execution_count": null,
   "id": "737fef00",
   "metadata": {},
   "outputs": [],
   "source": [
    "# Load the MNIST dataset\n",
    "(x_train, y_train), (x_test, y_test) = mnist.load_data()\n"
   ]
  },
  {
   "cell_type": "code",
   "execution_count": 4,
   "id": "30ecbcb3",
   "metadata": {},
   "outputs": [],
   "source": [
    "\n",
    "# Normalize the input data\n",
    "x_train = x_train / 255.0\n",
    "x_test = x_test / 255.0"
   ]
  },
  {
   "cell_type": "code",
   "execution_count": 5,
   "id": "a5cdae56",
   "metadata": {},
   "outputs": [],
   "source": [
    "\n",
    "# Convert labels to one-hot encoding\n",
    "y_train = to_categorical(y_train, 10)\n",
    "y_test = to_categorical(y_test, 10)"
   ]
  },
  {
   "cell_type": "code",
   "execution_count": 6,
   "id": "f531c628",
   "metadata": {},
   "outputs": [],
   "source": [
    "# Split training data into training and validation sets\n",
    "x_train_main = x_train[:50000]\n",
    "y_train_main = y_train[:50000]\n",
    "x_val = x_train[50000:]\n",
    "y_val = y_train[50000:]"
   ]
  },
  {
   "cell_type": "code",
   "execution_count": 7,
   "id": "b14a9418",
   "metadata": {},
   "outputs": [
    {
     "name": "stderr",
     "output_type": "stream",
     "text": [
      "c:\\Users\\HP\\anaconda3\\Lib\\site-packages\\keras\\src\\layers\\reshaping\\flatten.py:37: UserWarning: Do not pass an `input_shape`/`input_dim` argument to a layer. When using Sequential models, prefer using an `Input(shape)` object as the first layer in the model instead.\n",
      "  super().__init__(**kwargs)\n"
     ]
    }
   ],
   "source": [
    "# Define a simple MLP model\n",
    "model = Sequential([\n",
    "    Flatten(input_shape=(28, 28)),\n",
    "    Dense(128, activation='relu'),\n",
    "    Dense(64, activation='relu'),\n",
    "    Dense(10, activation='softmax')\n",
    "])"
   ]
  },
  {
   "cell_type": "code",
   "execution_count": 8,
   "id": "9a5b0377",
   "metadata": {},
   "outputs": [],
   "source": [
    "# Compile the model\n",
    "model.compile(optimizer='adam', loss='categorical_crossentropy', metrics=['accuracy'])\n"
   ]
  },
  {
   "cell_type": "code",
   "execution_count": 9,
   "id": "2ea39929",
   "metadata": {},
   "outputs": [],
   "source": [
    "# Define EarlyStopping callback\n",
    "early_stop = EarlyStopping(\n",
    "    monitor='val_loss',\n",
    "    patience=3,\n",
    "    restore_best_weights=True\n",
    ")\n"
   ]
  },
  {
   "cell_type": "code",
   "execution_count": 10,
   "id": "c277b0b5",
   "metadata": {},
   "outputs": [
    {
     "name": "stdout",
     "output_type": "stream",
     "text": [
      "Epoch 1/50\n",
      "391/391 - 11s - 29ms/step - accuracy: 0.8978 - loss: 0.3612 - val_accuracy: 0.9524 - val_loss: 0.1706\n",
      "Epoch 2/50\n",
      "391/391 - 5s - 12ms/step - accuracy: 0.9579 - loss: 0.1446 - val_accuracy: 0.9650 - val_loss: 0.1227\n",
      "Epoch 3/50\n",
      "391/391 - 5s - 12ms/step - accuracy: 0.9696 - loss: 0.1022 - val_accuracy: 0.9687 - val_loss: 0.1057\n",
      "Epoch 4/50\n",
      "391/391 - 5s - 14ms/step - accuracy: 0.9767 - loss: 0.0773 - val_accuracy: 0.9707 - val_loss: 0.0949\n",
      "Epoch 5/50\n",
      "391/391 - 5s - 12ms/step - accuracy: 0.9810 - loss: 0.0610 - val_accuracy: 0.9734 - val_loss: 0.0924\n",
      "Epoch 6/50\n",
      "391/391 - 5s - 12ms/step - accuracy: 0.9849 - loss: 0.0492 - val_accuracy: 0.9750 - val_loss: 0.0837\n",
      "Epoch 7/50\n",
      "391/391 - 5s - 12ms/step - accuracy: 0.9880 - loss: 0.0394 - val_accuracy: 0.9750 - val_loss: 0.0888\n",
      "Epoch 8/50\n",
      "391/391 - 5s - 12ms/step - accuracy: 0.9902 - loss: 0.0323 - val_accuracy: 0.9751 - val_loss: 0.0877\n",
      "Epoch 9/50\n",
      "391/391 - 5s - 12ms/step - accuracy: 0.9928 - loss: 0.0252 - val_accuracy: 0.9741 - val_loss: 0.0948\n"
     ]
    }
   ],
   "source": [
    "# Train the model\n",
    "history = model.fit(\n",
    "    x_train_main, y_train_main,\n",
    "    epochs=50,\n",
    "    batch_size=128,\n",
    "    validation_data=(x_val, y_val),\n",
    "    callbacks=[early_stop],\n",
    "    verbose=2\n",
    ")"
   ]
  },
  {
   "cell_type": "code",
   "execution_count": 11,
   "id": "35d6fe32",
   "metadata": {},
   "outputs": [
    {
     "name": "stdout",
     "output_type": "stream",
     "text": [
      "Test Accuracy: 0.9743, Test Loss: 0.0804\n"
     ]
    }
   ],
   "source": [
    "\n",
    "# Evaluate on test set\n",
    "test_loss, test_acc = model.evaluate(x_test, y_test, verbose=0)\n",
    "print(f\"Test Accuracy: {test_acc:.4f}, Test Loss: {test_loss:.4f}\")"
   ]
  }
 ],
 "metadata": {
  "kernelspec": {
   "display_name": "base",
   "language": "python",
   "name": "python3"
  },
  "language_info": {
   "codemirror_mode": {
    "name": "ipython",
    "version": 3
   },
   "file_extension": ".py",
   "mimetype": "text/x-python",
   "name": "python",
   "nbconvert_exporter": "python",
   "pygments_lexer": "ipython3",
   "version": "3.12.7"
  }
 },
 "nbformat": 4,
 "nbformat_minor": 5
}
