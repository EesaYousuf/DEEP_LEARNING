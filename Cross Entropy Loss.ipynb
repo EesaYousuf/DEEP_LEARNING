{
 "cells": [
  {
   "cell_type": "code",
   "execution_count": 1,
   "id": "2ac49cd0",
   "metadata": {},
   "outputs": [
    {
     "name": "stdout",
     "output_type": "stream",
     "text": [
      "Loss: 0.4170299470424652\n"
     ]
    }
   ],
   "source": [
    "import torch\n",
    "import torch.nn as nn\n",
    "\n",
    "# CrossEntropyLoss combines nn.LogSoftmax() and nn.NLLLoss()\n",
    "loss_fn = nn.CrossEntropyLoss()\n",
    "\n",
    "# Example: predictions (logits) and targets (class indices)\n",
    "predictions = torch.tensor([[2.0, 1.0, 0.1]], requires_grad=True)\n",
    "targets = torch.tensor([0])  # class index\n",
    "\n",
    "# Compute loss\n",
    "loss = loss_fn(predictions, targets)\n",
    "print(\"Loss:\", loss.item())\n"
   ]
  }
 ],
 "metadata": {
  "kernelspec": {
   "display_name": "base",
   "language": "python",
   "name": "python3"
  },
  "language_info": {
   "codemirror_mode": {
    "name": "ipython",
    "version": 3
   },
   "file_extension": ".py",
   "mimetype": "text/x-python",
   "name": "python",
   "nbconvert_exporter": "python",
   "pygments_lexer": "ipython3",
   "version": "3.12.7"
  }
 },
 "nbformat": 4,
 "nbformat_minor": 5
}
